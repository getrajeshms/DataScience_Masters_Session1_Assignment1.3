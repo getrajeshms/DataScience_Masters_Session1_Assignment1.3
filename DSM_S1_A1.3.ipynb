{
 "cells": [
  {
   "cell_type": "code",
   "execution_count": 17,
   "metadata": {},
   "outputs": [
    {
     "name": "stdout",
     "output_type": "stream",
     "text": [
      "Please enter your first name :Rajesh\n",
      "Rajesh\n",
      "Please enter your last name :Sundarachari\n",
      "Sundarachari\n",
      "Your name is: Sundarachari Rajesh\n"
     ]
    }
   ],
   "source": [
    "# Entering the first name\n",
    "fname = input(\"Please enter your first name :\")\n",
    "# Printing the first name\n",
    "print(fname)\n",
    "# Entering the last name\n",
    "lname = input(\"Please enter your last name :\")\n",
    "# Printing the last name\n",
    "print(lname)\n",
    "print(\"Your name is:\",str(lname+\" \"+fname))"
   ]
  },
  {
   "cell_type": "code",
   "execution_count": null,
   "metadata": {},
   "outputs": [],
   "source": []
  }
 ],
 "metadata": {
  "kernelspec": {
   "display_name": "Python 3",
   "language": "python",
   "name": "python3"
  },
  "language_info": {
   "codemirror_mode": {
    "name": "ipython",
    "version": 3
   },
   "file_extension": ".py",
   "mimetype": "text/x-python",
   "name": "python",
   "nbconvert_exporter": "python",
   "pygments_lexer": "ipython3",
   "version": "3.6.4"
  }
 },
 "nbformat": 4,
 "nbformat_minor": 2
}
